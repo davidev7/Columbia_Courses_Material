{
  "nbformat": 4,
  "nbformat_minor": 0,
  "metadata": {
    "kernelspec": {
      "display_name": "Python 3",
      "language": "python",
      "name": "python3"
    },
    "language_info": {
      "codemirror_mode": {
        "name": "ipython",
        "version": 3
      },
      "file_extension": ".py",
      "mimetype": "text/x-python",
      "name": "python",
      "nbconvert_exporter": "python",
      "pygments_lexer": "ipython3",
      "version": "3.7.6"
    },
    "colab": {
      "name": "Vaccari_Davide_ML_HW_4.ipynb",
      "provenance": [],
      "collapsed_sections": [],
      "toc_visible": true
    }
  },
  "cells": [
    {
      "cell_type": "markdown",
      "metadata": {
        "id": "UGKMfGlN4ge0"
      },
      "source": [
        "# Davide Vaccari \n",
        "## [dv2438]\n",
        "# Machine Learning Homework #4"
      ]
    },
    {
      "cell_type": "markdown",
      "metadata": {
        "id": "cup6Rllh4ge0"
      },
      "source": [
        "___\n",
        "# Part 1: Build a classification model using text data\n",
        "\n",
        "In part one of the homework, you will solve a text classification task.\n",
        "\n",
        "You can download the following data-sets from the HW data folder on the course website:\n",
        "\n",
        "HW4_Text_train_data.csv and HW4_text_test_data.csv\n",
        "\n",
        "The data consists of Women’s fashion online shop reviews, consisting of a review\n",
        "text, and whether the review author would recommend the product.\n",
        "\n",
        "We are trying to determine whether a reviewer will recommend a product or not based on each review.\n",
        "\n",
        "\n",
        "In a real application this might allow us to find out what is good or bad about certain products or to feature more typical reviews (like a very critical and a very positive one).\n",
        "\n",
        "Use cross-validation to evaluate the results. Use a metric that’s appropriate for imbalanced classification (AUC or average precision for example), and inspect all models by visualizing the coefficients.\n",
        "\n",
        "To complete part one of the homework do the following:\n",
        "\n",
        "**Import the text data, vectorize the review column into an X matrix.  Then run at least three models and select a single best model.  Note that you can also create three models that simply use different types of explanatory variables such as a logistic regression with different n grams or different tokenizers.  Be sure to explain your choice and evaluate this model using the test set.**"
      ]
    },
    {
      "cell_type": "markdown",
      "metadata": {
        "id": "uh81yWY04ge0"
      },
      "source": [
        "___\n",
        "\n",
        "Setup code:"
      ]
    },
    {
      "cell_type": "code",
      "metadata": {
        "id": "_8usjzSW4ge1"
      },
      "source": [
        "import pandas as pd\n",
        "import numpy as np\n",
        "import matplotlib as mpl\n",
        "import seaborn as sns\n",
        "\n",
        "%matplotlib inline\n",
        "import matplotlib.pyplot as plt\n",
        "\n",
        "from sklearn.feature_extraction.text import CountVectorizer\n",
        "from sklearn.feature_extraction.text import TfidfVectorizer\n",
        "from sklearn.feature_extraction.text import ENGLISH_STOP_WORDS\n",
        "from sklearn.metrics import classification_report\n",
        "from sklearn.metrics import confusion_matrix"
      ],
      "execution_count": 147,
      "outputs": []
    },
    {
      "cell_type": "markdown",
      "metadata": {
        "id": "BHA47BrxGdum"
      },
      "source": [
        "___\n",
        "### Importing the data"
      ]
    },
    {
      "cell_type": "code",
      "metadata": {
        "colab": {
          "base_uri": "https://localhost:8080/"
        },
        "id": "A9E0I4g94ge2",
        "outputId": "713ad49d-e3e0-4a26-f6d2-d644ac816be8"
      },
      "source": [
        "text_train = pd.read_csv(\"/content/HW4_Text_train_data.csv\")\n",
        "text_test = pd.read_csv(\"/content/HW4_Text_test_data.csv\")\n",
        "\n",
        "print(\"type of text_train: {}\".format(type(text_train)))\n",
        "print(\"length of text_train: {}\".format(len(text_train)))\n",
        "print(\"type of text_test: {}\".format(type(text_test)))\n",
        "print(\"length of text_test: {}\".format(len(text_test)))"
      ],
      "execution_count": 148,
      "outputs": [
        {
          "output_type": "stream",
          "text": [
            "type of text_train: <class 'pandas.core.frame.DataFrame'>\n",
            "length of text_train: 16985\n",
            "type of text_test: <class 'pandas.core.frame.DataFrame'>\n",
            "length of text_test: 5657\n"
          ],
          "name": "stdout"
        }
      ]
    },
    {
      "cell_type": "code",
      "metadata": {
        "colab": {
          "base_uri": "https://localhost:8080/"
        },
        "id": "jsM97VOc4ge3",
        "outputId": "beb42800-a594-40c4-e95b-2a1717e20643"
      },
      "source": [
        "print(\"Fist five rows of text_train: \\n{}\".format(text_train.head()))"
      ],
      "execution_count": 149,
      "outputs": [
        {
          "output_type": "stream",
          "text": [
            "Fist five rows of text_train: \n",
            "                                              Review  Recommended\n",
            "0  \"go to\" please offer a maxi for mature custome...            1\n",
            "1  \"go to\" tee for sz 10+ women.Women who want so...            1\n",
            "2  \"long and warm\".These leg warmers are perfect ...            1\n",
            "3  \"tweed\" dress.I bought this dress for my siste...            1\n",
            "4  #1 stunna.I am in lust with this fabulous dres...            1\n"
          ],
          "name": "stdout"
        }
      ]
    },
    {
      "cell_type": "code",
      "metadata": {
        "colab": {
          "base_uri": "https://localhost:8080/"
        },
        "id": "skd6X3hN4ge3",
        "outputId": "58e16307-0666-4dbb-d425-8ccb9acb4c50"
      },
      "source": [
        "print(\"Fist five rows of text_test: \\n{}\".format(text_test.head()))"
      ],
      "execution_count": 150,
      "outputs": [
        {
          "output_type": "stream",
          "text": [
            "Fist five rows of text_test: \n",
            "                                              Review  Recommended\n",
            "0  \"beach business\".Great for the beachy business...            1\n",
            "1  \"formal pajamas\".These are super comfy and so ...            1\n",
            "2  \"perfect with jeans\".Great with leggings.perfe...            1\n",
            "3  \"won't stretch\" tags are misleading.The tag on...            1\n",
            "4  $200 piece of polyester.A $200 piece of polyes...            0\n"
          ],
          "name": "stdout"
        }
      ]
    },
    {
      "cell_type": "code",
      "metadata": {
        "colab": {
          "base_uri": "https://localhost:8080/"
        },
        "id": "cgqh7D5L4ge3",
        "outputId": "2874fa38-e844-4f23-87d3-7a087d7fe21f"
      },
      "source": [
        "text_train.columns"
      ],
      "execution_count": 151,
      "outputs": [
        {
          "output_type": "execute_result",
          "data": {
            "text/plain": [
              "Index(['Review', 'Recommended'], dtype='object')"
            ]
          },
          "metadata": {
            "tags": []
          },
          "execution_count": 151
        }
      ]
    },
    {
      "cell_type": "code",
      "metadata": {
        "colab": {
          "base_uri": "https://localhost:8080/"
        },
        "id": "tNwTwBQh4ge4",
        "outputId": "1050af09-bfba-4534-f7ff-ca9a36de6d95"
      },
      "source": [
        "text_train['Recommended'].value_counts()"
      ],
      "execution_count": 152,
      "outputs": [
        {
          "output_type": "execute_result",
          "data": {
            "text/plain": [
              "1    13910\n",
              "0     3075\n",
              "Name: Recommended, dtype: int64"
            ]
          },
          "metadata": {
            "tags": []
          },
          "execution_count": 152
        }
      ]
    },
    {
      "cell_type": "code",
      "metadata": {
        "colab": {
          "base_uri": "https://localhost:8080/"
        },
        "id": "8N268GJ54ge4",
        "outputId": "3945746b-de4c-42a3-dc6b-87813251ee04"
      },
      "source": [
        "text_test['Recommended'].value_counts()"
      ],
      "execution_count": 153,
      "outputs": [
        {
          "output_type": "execute_result",
          "data": {
            "text/plain": [
              "1    4631\n",
              "0    1026\n",
              "Name: Recommended, dtype: int64"
            ]
          },
          "metadata": {
            "tags": []
          },
          "execution_count": 153
        }
      ]
    },
    {
      "cell_type": "code",
      "metadata": {
        "colab": {
          "base_uri": "https://localhost:8080/"
        },
        "id": "VZmVcnRxfmwa",
        "outputId": "7721cfa5-56f5-4b36-d93f-772fc5dae150"
      },
      "source": [
        "y_test = np.array(text_test['Recommended'])\n",
        "y_test"
      ],
      "execution_count": 154,
      "outputs": [
        {
          "output_type": "execute_result",
          "data": {
            "text/plain": [
              "array([1, 1, 1, ..., 0, 1, 0])"
            ]
          },
          "metadata": {
            "tags": []
          },
          "execution_count": 154
        }
      ]
    },
    {
      "cell_type": "markdown",
      "metadata": {
        "id": "9tA_3eqaGsJR"
      },
      "source": [
        "___\n",
        "\n",
        "## First Model\n",
        "\n",
        "A simple bag of words model with all the arguments of CountVectorizer set to default, and logistic regression."
      ]
    },
    {
      "cell_type": "code",
      "metadata": {
        "colab": {
          "base_uri": "https://localhost:8080/"
        },
        "id": "S35OodQA4ge5",
        "outputId": "57e0e715-dca8-48da-814b-4e2c5570b0d5"
      },
      "source": [
        "vect = CountVectorizer().fit(text_train.Review)\n",
        "X_train = vect.transform(text_train.Review)\n",
        "print(\"X_train:\\n{}\".format(repr(X_train)))"
      ],
      "execution_count": 155,
      "outputs": [
        {
          "output_type": "stream",
          "text": [
            "X_train:\n",
            "<16985x13010 sparse matrix of type '<class 'numpy.int64'>'\n",
            "\twith 749166 stored elements in Compressed Sparse Row format>\n"
          ],
          "name": "stdout"
        }
      ]
    },
    {
      "cell_type": "markdown",
      "metadata": {
        "id": "1mSR2BW0VhkN"
      },
      "source": [
        "We have 16,985 documents (reviews) and 13,010 words in total."
      ]
    },
    {
      "cell_type": "code",
      "metadata": {
        "colab": {
          "base_uri": "https://localhost:8080/"
        },
        "id": "zB2cRWO0WBm_",
        "outputId": "9dc5c36f-38e2-4bdb-e12c-026d726ce00f"
      },
      "source": [
        "(749166/(16985*13010))*100"
      ],
      "execution_count": 156,
      "outputs": [
        {
          "output_type": "execute_result",
          "data": {
            "text/plain": [
              "0.33902772193306163"
            ]
          },
          "metadata": {
            "tags": []
          },
          "execution_count": 156
        }
      ]
    },
    {
      "cell_type": "markdown",
      "metadata": {
        "id": "jFCbR-hIWNF2"
      },
      "source": [
        "Only the 0.33% of the matrix has non zero values. The matrix is very sparse."
      ]
    },
    {
      "cell_type": "code",
      "metadata": {
        "colab": {
          "base_uri": "https://localhost:8080/"
        },
        "id": "wIFWxspTf22Z",
        "outputId": "42de8c21-69e2-4bb1-825c-e80c0cf093dd"
      },
      "source": [
        "X_test = vect.transform(text_test.Review)\n",
        "print(\"X_test:\\n{}\".format(repr(X_test)))"
      ],
      "execution_count": 157,
      "outputs": [
        {
          "output_type": "stream",
          "text": [
            "X_test:\n",
            "<5657x13010 sparse matrix of type '<class 'numpy.int64'>'\n",
            "\twith 248933 stored elements in Compressed Sparse Row format>\n"
          ],
          "name": "stdout"
        }
      ]
    },
    {
      "cell_type": "code",
      "metadata": {
        "colab": {
          "base_uri": "https://localhost:8080/"
        },
        "id": "QlnFMgLrWyeb",
        "outputId": "48d486f1-bf65-424c-e950-46d08d8a3812"
      },
      "source": [
        "vect"
      ],
      "execution_count": 158,
      "outputs": [
        {
          "output_type": "execute_result",
          "data": {
            "text/plain": [
              "CountVectorizer(analyzer='word', binary=False, decode_error='strict',\n",
              "                dtype=<class 'numpy.int64'>, encoding='utf-8', input='content',\n",
              "                lowercase=True, max_df=1.0, max_features=None, min_df=1,\n",
              "                ngram_range=(1, 1), preprocessor=None, stop_words=None,\n",
              "                strip_accents=None, token_pattern='(?u)\\\\b\\\\w\\\\w+\\\\b',\n",
              "                tokenizer=None, vocabulary=None)"
            ]
          },
          "metadata": {
            "tags": []
          },
          "execution_count": 158
        }
      ]
    },
    {
      "cell_type": "code",
      "metadata": {
        "colab": {
          "base_uri": "https://localhost:8080/"
        },
        "id": "fDrTHA6POlgQ",
        "outputId": "179e8d79-8020-4c32-ad7e-48f5ce80f745"
      },
      "source": [
        "dict(list(vect.vocabulary_.items())[0:10])"
      ],
      "execution_count": 159,
      "outputs": [
        {
          "output_type": "execute_result",
          "data": {
            "text/plain": [
              "{'customers': 3136,\n",
              " 'for': 4771,\n",
              " 'go': 5113,\n",
              " 'mature': 7006,\n",
              " 'maxi': 7015,\n",
              " 'offer': 7770,\n",
              " 'please': 8473,\n",
              " 'silhouette': 10191,\n",
              " 'to': 11668,\n",
              " 'transcends': 11776}"
            ]
          },
          "metadata": {
            "tags": []
          },
          "execution_count": 159
        }
      ]
    },
    {
      "cell_type": "code",
      "metadata": {
        "colab": {
          "base_uri": "https://localhost:8080/"
        },
        "id": "MRU8k8Z34ge5",
        "outputId": "048cfc8c-40fa-48da-b229-a6898a5c740d"
      },
      "source": [
        "feature_names = vect.get_feature_names()\n",
        "print(\"Number of features: {}\".format(len(feature_names)))\n",
        "print(\"First 20 features:\\n{}\".format(feature_names[:20]))\n",
        "print(\"Features 210 to 230:\\n{}\".format(feature_names[210:230]))\n",
        "print(\"Every 200th feature:\\n{}\".format(feature_names[::200]))"
      ],
      "execution_count": 160,
      "outputs": [
        {
          "output_type": "stream",
          "text": [
            "Number of features: 13010\n",
            "First 20 features:\n",
            "['00', '000', '00p', '03', '03dd', '04', '06', '0dd', '0in', '0p', '0petite', '0r', '0xs', '10', '100', '1000', '100lb', '100lbs', '102', '102lbs']\n",
            "Features 210 to 230:\n",
            "['1st', '1x', '20', '200', '2000s', '2001', '2004', '2005', '2006', '2007', '2008', '2010', '2012', '2013', '2015', '2016', '2035', '20lb', '20lbs', '20s']\n",
            "Every 200th feature:\n",
            "['00', '1970', '56', 'actualyl', 'altar', 'area', 'awsome', 'beforehand', 'blossoms', 'breastfeeding', 'buttoning', 'cedar', 'circle', 'combat', 'constructed', 'cream', 'darkler', 'designed', 'dissapointing', 'dropped', 'embroiderer', 'excellently', 'fashioned', 'flaring', 'former', 'gauze', 'graphic', 'havne', 'hoodie', 'imperfection', 'interfered', 'july', 'las', 'limiting', 'lucky', 'matte', 'minor', 'mum', 'nimble', 'ombrã', 'overtime', 'peek', 'pinstripe', 'possessing', 'promised', 'rail', 'regualr', 'retailerpolog', 'rt', 'scratches', 'shapewear', 'sill', 'slumpy', 'spaghetti', 'steaming', 'stunned', 'sways', 'tell', 'ticket', 'trapeze', 'unacceptable', 'unusial', 'vita', 'well', 'words', 'zips']\n"
          ],
          "name": "stdout"
        }
      ]
    },
    {
      "cell_type": "code",
      "metadata": {
        "colab": {
          "base_uri": "https://localhost:8080/"
        },
        "id": "GV1lQr284ge5",
        "outputId": "a90b1534-cb3f-42a9-cc0f-ceb146986ac6"
      },
      "source": [
        "y_train = np.array(text_train['Recommended'])\n",
        "\n",
        "print(X_train.shape)\n",
        "print(y_train.shape)"
      ],
      "execution_count": 161,
      "outputs": [
        {
          "output_type": "stream",
          "text": [
            "(16985, 13010)\n",
            "(16985,)\n"
          ],
          "name": "stdout"
        }
      ]
    },
    {
      "cell_type": "code",
      "metadata": {
        "colab": {
          "base_uri": "https://localhost:8080/"
        },
        "id": "XSsU0Tpp4ge5",
        "outputId": "0d9d0841-399f-41b2-9102-e6f42fdded63"
      },
      "source": [
        "from sklearn.model_selection import cross_val_score\n",
        "from sklearn.linear_model import LogisticRegression\n",
        "from sklearn.model_selection import GridSearchCV\n",
        "\n",
        "scores = cross_val_score(LogisticRegression(max_iter=10000), X_train, y_train, cv=5)\n",
        "print(\"Mean cross-validation accuracy: {:.2f}\".format(np.mean(scores)))"
      ],
      "execution_count": 162,
      "outputs": [
        {
          "output_type": "stream",
          "text": [
            "Mean cross-validation accuracy: 0.89\n"
          ],
          "name": "stdout"
        }
      ]
    },
    {
      "cell_type": "code",
      "metadata": {
        "id": "BJ2jhxct4ge6"
      },
      "source": [
        "param_grid = {'C': [0.001, 0.01, 0.1, 1, 10]}\n",
        "grid = GridSearchCV(LogisticRegression(max_iter=10000), param_grid, cv=5).fit(X_train, y_train)\n",
        "\n",
        "y_pred1 = grid.predict(X_test)"
      ],
      "execution_count": 163,
      "outputs": []
    },
    {
      "cell_type": "code",
      "metadata": {
        "colab": {
          "base_uri": "https://localhost:8080/"
        },
        "id": "8B6vYk2iu9Yf",
        "outputId": "1d7a5874-a774-4ffa-8173-23a8d1a8f59d"
      },
      "source": [
        "print(\"Best cross-validation score: {:.2f}\".format(grid.best_score_))\n",
        "print(\"Test score: {:.2f}\".format(grid.score(X_test, y_test)))\n",
        "print(\"Best parameters: \", grid.best_params_)\n",
        "\n",
        "print(\"Classification Report:\")\n",
        "print(classification_report(y_test, y_pred1))"
      ],
      "execution_count": 164,
      "outputs": [
        {
          "output_type": "stream",
          "text": [
            "Best cross-validation score: 0.90\n",
            "Test score: 0.90\n",
            "Best parameters:  {'C': 0.1}\n",
            "Classification Report:\n",
            "              precision    recall  f1-score   support\n",
            "\n",
            "           0       0.75      0.66      0.70      1026\n",
            "           1       0.93      0.95      0.94      4631\n",
            "\n",
            "    accuracy                           0.90      5657\n",
            "   macro avg       0.84      0.80      0.82      5657\n",
            "weighted avg       0.90      0.90      0.90      5657\n",
            "\n"
          ],
          "name": "stdout"
        }
      ]
    },
    {
      "cell_type": "code",
      "metadata": {
        "colab": {
          "base_uri": "https://localhost:8080/",
          "height": 278
        },
        "id": "1VCCMGwRFPt0",
        "outputId": "cdd82c06-56fa-44df-fbfb-9cd08c3f19fc"
      },
      "source": [
        "mat = confusion_matrix(y_test, y_pred1)\n",
        "sns.heatmap(mat.T, square=True, annot=True, fmt='d', cbar=False, cmap=\"Blues\")\n",
        "plt.xlabel('true label')\n",
        "plt.ylabel('predicted label');"
      ],
      "execution_count": 165,
      "outputs": [
        {
          "output_type": "display_data",
          "data": {
            "image/png": "[encoded data removed]",
            "text/plain": [
              "<Figure size 432x288 with 1 Axes>"
            ]
          },
          "metadata": {
            "tags": [],
            "needs_background": "light"
          }
        }
      ]
    },
    {
      "cell_type": "markdown",
      "metadata": {
        "id": "LuAUDMtHHGCP"
      },
      "source": [
        "**Note**: We have a pretty bad precision and recall for \"not recommended\" reviews. We're getting the right prediction for that label around 2/3 of the time."
      ]
    },
    {
      "cell_type": "markdown",
      "metadata": {
        "id": "bdLdC4SqV6Pw"
      },
      "source": [
        "### Visualization of coefficients"
      ]
    },
    {
      "cell_type": "code",
      "metadata": {
        "id": "TmMWx9zSvaBj"
      },
      "source": [
        "def visualize_coefficients(coefficients, feature_names, n_top_features=25):\n",
        "    \"\"\"Visualize coefficients of a linear model.\n",
        "    Parameters\n",
        "    ----------\n",
        "    coefficients : nd-array, shape (n_features,)\n",
        "        Model coefficients.\n",
        "    feature_names : list or nd-array of strings, shape (n_features,)\n",
        "        Feature names for labeling the coefficients.\n",
        "    n_top_features : int, default=25\n",
        "        How many features to show. The function will show the largest (most\n",
        "        positive) and smallest (most negative)  n_top_features coefficients,\n",
        "        for a total of 2 * n_top_features coefficients.\n",
        "    \"\"\"\n",
        "    coefficients = coefficients.squeeze()\n",
        "    if coefficients.ndim > 1:\n",
        "        # this is not a row or column vector\n",
        "        raise ValueError(\"coeffients must be 1d array or column vector, got\"\n",
        "                         \" shape {}\".format(coefficients.shape))\n",
        "    coefficients = coefficients.ravel()\n",
        "\n",
        "    if len(coefficients) != len(feature_names):\n",
        "        raise ValueError(\"Number of coefficients {} doesn't match number of\"\n",
        "                         \"feature names {}.\".format(len(coefficients),\n",
        "                                                    len(feature_names)))\n",
        "    # get coefficients with large absolute values\n",
        "    coef = coefficients.ravel()\n",
        "    positive_coefficients = np.argsort(coef)[-n_top_features:]\n",
        "    negative_coefficients = np.argsort(coef)[:n_top_features]\n",
        "    interesting_coefficients = np.hstack([negative_coefficients,\n",
        "                                          positive_coefficients])\n",
        "    # plot them\n",
        "    plt.figure(figsize=(15, 5))\n",
        "    colors = ['#ff2020' if c < 0 else '#0000aa'\n",
        "              for c in coef[interesting_coefficients]]\n",
        "    plt.bar(np.arange(2 * n_top_features), coef[interesting_coefficients],\n",
        "            color=colors)\n",
        "    feature_names = np.array(feature_names)\n",
        "    plt.subplots_adjust(bottom=0.3)\n",
        "    plt.xticks(np.arange(1, 1 + 2 * n_top_features),\n",
        "               feature_names[interesting_coefficients], rotation=60,\n",
        "               ha=\"right\")\n",
        "    plt.ylabel(\"Coefficient magnitude\")\n",
        "    plt.xlabel(\"Feature\")"
      ],
      "execution_count": 166,
      "outputs": []
    },
    {
      "cell_type": "code",
      "metadata": {
        "colab": {
          "base_uri": "https://localhost:8080/",
          "height": 325
        },
        "id": "geG1akkkvgjg",
        "outputId": "d715ae28-ecab-4176-d87b-083e82aff496"
      },
      "source": [
        "coefs = LogisticRegression(C=0.01).fit(X_train,y_train).coef_\n",
        "feature_names = vect.get_feature_names()\n",
        "\n",
        "\n",
        "visualize_coefficients(coefs, feature_names, n_top_features=25)"
      ],
      "execution_count": 167,
      "outputs": [
        {
          "output_type": "display_data",
          "data": {
            "image/png": "[encoded data removed]",
            "text/plain": [
              "<Figure size 1080x360 with 1 Axes>"
            ]
          },
          "metadata": {
            "tags": [],
            "needs_background": "light"
          }
        }
      ]
    },
    {
      "cell_type": "markdown",
      "metadata": {
        "id": "qbWKGOFYHilP"
      },
      "source": [
        "___\n",
        "\n",
        "## Second Model\n",
        "\n",
        "A more complex model. First of all, I'm going to use TfidfTransformer instead of CountVectorizer. The tf-idf value increases proportionally to the number of times a word appears in the document and is offset by the frequency of the word in the corpus, which helps to adjust for the fact that some words appear more frequently in general. Then I'm going to change ngram_range from (1, 1) [default] to (1, 2) meaning that I'm going to analyze unigrams and bigrams. Since my matrix is going to become much bigger, I'm also going to use stop_words and take words that appear at least in two documents.\n"
      ]
    },
    {
      "cell_type": "code",
      "metadata": {
        "colab": {
          "base_uri": "https://localhost:8080/"
        },
        "id": "HNDZpHy2Krl3",
        "outputId": "433407b7-957f-4dd2-d279-dd5fd4953bac"
      },
      "source": [
        "vect = TfidfVectorizer(ngram_range= (1,2), stop_words=\"english\", min_df=2).fit(text_train.Review)\n",
        "X_train = vect.transform(text_train.Review)\n",
        "print(\"X_train:\\n{}\".format(repr(X_train)))"
      ],
      "execution_count": 168,
      "outputs": [
        {
          "output_type": "stream",
          "text": [
            "X_train:\n",
            "<16985x58529 sparse matrix of type '<class 'numpy.float64'>'\n",
            "\twith 701906 stored elements in Compressed Sparse Row format>\n"
          ],
          "name": "stdout"
        }
      ]
    },
    {
      "cell_type": "code",
      "metadata": {
        "colab": {
          "base_uri": "https://localhost:8080/"
        },
        "id": "idfkpaAYMZXp",
        "outputId": "d290a2fc-72b3-4c38-d283-9ff879b20d7f"
      },
      "source": [
        "(701906/(16985*58529))*100"
      ],
      "execution_count": 169,
      "outputs": [
        {
          "output_type": "execute_result",
          "data": {
            "text/plain": [
              "0.07060611238197059"
            ]
          },
          "metadata": {
            "tags": []
          },
          "execution_count": 169
        }
      ]
    },
    {
      "cell_type": "markdown",
      "metadata": {
        "id": "fGn4v7_qMmae"
      },
      "source": [
        "Only the 0.07% of the matrix has non zero values. The matrix is very sparse. Much more than the previous one."
      ]
    },
    {
      "cell_type": "code",
      "metadata": {
        "colab": {
          "base_uri": "https://localhost:8080/"
        },
        "id": "LRJDswB6MPlB",
        "outputId": "060d48be-697e-440f-ee8f-ab56c6f1f2a3"
      },
      "source": [
        "X_test = vect.transform(text_test.Review)\n",
        "print(\"X_test:\\n{}\".format(repr(X_test)))"
      ],
      "execution_count": 170,
      "outputs": [
        {
          "output_type": "stream",
          "text": [
            "X_test:\n",
            "<5657x58529 sparse matrix of type '<class 'numpy.float64'>'\n",
            "\twith 217637 stored elements in Compressed Sparse Row format>\n"
          ],
          "name": "stdout"
        }
      ]
    },
    {
      "cell_type": "code",
      "metadata": {
        "colab": {
          "base_uri": "https://localhost:8080/"
        },
        "id": "eipsqSFbBw1A",
        "outputId": "f10aae24-0388-49d8-c57d-32dac41e6616"
      },
      "source": [
        "feature_names = vect.get_feature_names()\n",
        "print(\"Number of features: {}\".format(len(feature_names)))\n",
        "print(\"First 20 features:\\n{}\".format(feature_names[:20]))\n",
        "print(\"Features 210 to 230:\\n{}\".format(feature_names[210:230]))\n",
        "print(\"Every 200th feature:\\n{}\".format(feature_names[::200]))"
      ],
      "execution_count": 171,
      "outputs": [
        {
          "output_type": "stream",
          "text": [
            "Number of features: 58529\n",
            "First 20 features:\n",
            "['00', '00 based', '00 big', '00 dress', '00 fits', '00 petite', '00 regular', '00 size', '00 sold', '00 usually', '00 xxs', '00p', '00p 0p', '00p fit', '00p large', '00p retailer', '03', '0p', '0p 00p', '0p 2p']\n",
            "Features 210 to 230:\n",
            "['116', '116 lbs', '116 pounds', '116lbs', '117', '117 34b', '117 lbs', '117 petite', '117 pounds', '117lbs', '117lbs ordered', '118', '118 34d', '118 lbs', '118 pounds', '118lb', '118lbs', '119', '119 lbs', '11inches']\n",
            "Every 200th feature:\n",
            "['00', '115 pounds', '135lbs curvy', '25 petite', '32 ddd', '36 hip', '70 style', 'according instructions', 'additional 40', 'aesthetic', 'alternative shorts', 'appear larger', 'aren navy', 'arrived fabric', 'available try', 'bad probably', 'basic beautiful', 'beautiful fall', 'beautiful wanted', 'belt pants', 'better say', 'big opinion', 'bit bulky', 'bit washing', 'black underwear', 'blouse soft', 'board', 'boobs spilling', 'bought fabulous', 'boxy drapes', 'bra unless', 'bring tailor', 'bunching', 'butt', 'buy dress', 'came wash', 'careful washing', 'catalog came', 'checks cute', 'chic sophisticated', 'classy', 'clothes size', 'colo', 'color names', 'colored striping', 'colors style', 'comfortable bought', 'comfortable slimming', 'comfy yes', 'compliments received', 'contrasting sleeves', 'cottony material', 'cozy itchy', 'cuff cute', 'cut deep', 'cute blue', 'cute professional', 'dark charcoal', 'days loose', 'definitely 100', 'delight', 'design does', 'details beautiful', 'did problems', 'different', 'disappointed dress', 'does good', 'don big', 'drape fits', 'dress bunches', 'dress heels', 'dress received', 'dress walked', 'dresses suitable', 'easier dress', 'elastic tight', 'end working', 'estella', 'excited receiving', 'extra', 'fabric come', 'fabric reviewer', 'factory', 'falls apart', 'favorite right', 'feels bit', 'feminine way', 'fine small', 'fit fits', 'fit similar', 'fits perfectly', 'fitting thought', 'flattering bit', 'flattering pretty', 'floor perfectly', 'flowy size', 'frame loved', 'fun pair', 'gem going', 'glad', 'going size', 'good pair', 'gorgeous silk', 'got turquoise', 'great buttoned', 'great love', 'great unfortunately', 'grey online', 'hanging closet', 'haven seen', 'heels make', 'hides imperfections', 'hips inner', 'hole time', 'hoping got', 'huge medium', 'imagine clothes', 'info', 'irish', 'itchy stand', 'jacket oh', 'jeans jean', 'jumpsuit absolutely', 'just idea', 'just wear', 'kind cardigan', 'knit nice', 'lace sleeve', 'large im', 'larger typically', 'lbs 26', 'leggings best', 'length drapes', 'let just', 'lightweight flowing', 'like dresses', 'like normal', 'like th', 'line love', 'lint', 'little nicer', 'll pretty', 'long overwhelming', 'look adds', 'look reviews', 'looking awkward', 'looks just', 'loose way', 'love amazing', 'love hate', 'love sale', 'loved felt', 'lovely romantic', 'machine', 'makes butt', 'matches photo', 'material somewhat', 'mean seriously', 'medium shirts', 'midsection', 'model image', 'moss color', 'navy birds', 'neckline comes', 'needs belt', 'nice expect', 'nice transition', 'nighty', 'nylon', 'old world', 'online wouldn', 'order normal', 'ordered smaller', 'overall flowy', 'pair color', 'pants arrived', 'panty lines', 'pattern reminds', 'perfect bit', 'perfect perfect', 'perfectly covers', 'person got', 'petite higher', 'photo ordered', 'picture online', 'piece looks', 'pink saw', 'plenty big', 'poncho large', 'prefer fitted', 'pretty long', 'price especially', 'print red', 'product cute', 'purc', 'purchasing clothes', 'quality notch', 'quite small', 'really adorable', 'really sure', 'recommend hope', 'reference 32c', 'reminds retailer', 'retailer looking', 'return store', 'reviewers described', 'ridiculous 115', 'rise design', 'roomy nice', 'runs super', 'sale discount', 'saw email', 'scottish', 'seen photos', 'shape basic', 'sheer actually', 'shirt dressed', 'shirt underneath', 'short liking', 'shorts got', 'shoulders super', 'sight', 'sisters', 'size drapes', 'size reason', 'sized retailer', 'skiers', 'skirt love', 'sleeve sleeveless', 'sleeves usually', 'slip comes', 'small darts', 'small surprised', 'snow', 'soft hot', 'softness sweater', 'spandex like', 'spunk', 'steamer', 'store comfortable', 'straight fit', 'stretched', 'stunning emerald', 'style trendy', 'suffer', 'summer subtle', 'sure glad', 'sweater boots', 'sweater stiff', 'swing tts', 'tall ordered', 'teacher dress', 'tennis shoes', 'thing felt', 'think photo', 'thought pretty', 'ties neck', 'tights ankle', 'tiny beads', 'tops exception', 'touch look', 'tried extra', 'true navy', 'trying dress', 'tunic leggings', 'typically look', 'underwire', 'unique happy', 'upsize', 'vacation love', 'versatile pieces', 'viscose', 'waist making', 'wait sale', 'wanted think', 'wash plus', 'watching awhile', 'way style', 'wear funeral', 'wear special', 'wearing maternity', 'wedgie', 'wel', 'white pictured', 'wildest', 'wish wasn', 'wore didn', 'work make', 'world', 'worth trouble', 'xs', 'xsp length', 'yes short']\n"
          ],
          "name": "stdout"
        }
      ]
    },
    {
      "cell_type": "code",
      "metadata": {
        "id": "yh3pA9yzWcRp"
      },
      "source": [
        "param_grid = {'C': [0.001, 0.01, 0.1, 1, 10]}\n",
        "grid = GridSearchCV(LogisticRegression(max_iter=10000), param_grid, cv=5).fit(X_train, y_train)\n",
        "\n",
        "y_pred = grid.predict(X_test)"
      ],
      "execution_count": 172,
      "outputs": []
    },
    {
      "cell_type": "code",
      "metadata": {
        "colab": {
          "base_uri": "https://localhost:8080/"
        },
        "id": "SLPbksg8Wgdf",
        "outputId": "76ae645b-2b03-4031-dbfd-edd222400f52"
      },
      "source": [
        "print(\"Best cross-validation score: {:.2f}\".format(grid.best_score_))\n",
        "print(\"Test score: {:.2f}\".format(grid.score(X_test, y_test)))\n",
        "print(\"Best parameters: \", grid.best_params_)\n",
        "\n",
        "print(\"Classification Report:\")\n",
        "print(classification_report(y_test, y_pred))"
      ],
      "execution_count": 173,
      "outputs": [
        {
          "output_type": "stream",
          "text": [
            "Best cross-validation score: 0.90\n",
            "Test score: 0.90\n",
            "Best parameters:  {'C': 10}\n",
            "Classification Report:\n",
            "              precision    recall  f1-score   support\n",
            "\n",
            "           0       0.79      0.63      0.70      1026\n",
            "           1       0.92      0.96      0.94      4631\n",
            "\n",
            "    accuracy                           0.90      5657\n",
            "   macro avg       0.86      0.80      0.82      5657\n",
            "weighted avg       0.90      0.90      0.90      5657\n",
            "\n"
          ],
          "name": "stdout"
        }
      ]
    },
    {
      "cell_type": "code",
      "metadata": {
        "colab": {
          "base_uri": "https://localhost:8080/",
          "height": 278
        },
        "id": "-13JY3Q0Wjk_",
        "outputId": "ed501ff0-a716-404a-9988-5dc5c6fc4d16"
      },
      "source": [
        "mat = confusion_matrix(y_test, y_pred)\n",
        "sns.heatmap(mat.T, square=True, annot=True, fmt='d', cbar=False, cmap=\"Blues\")\n",
        "plt.xlabel('true label')\n",
        "plt.ylabel('predicted label');"
      ],
      "execution_count": 174,
      "outputs": [
        {
          "output_type": "display_data",
          "data": {
            "image/png": "[encoded data removed]",
            "text/plain": [
              "<Figure size 432x288 with 1 Axes>"
            ]
          },
          "metadata": {
            "tags": [],
            "needs_background": "light"
          }
        }
      ]
    },
    {
      "cell_type": "markdown",
      "metadata": {
        "id": "RMycjwkQyA0i"
      },
      "source": [
        "**Note**: Despite being more complex, this model has the same f1-score of the previous one. The 0 label (not recommended) is clearly the hardest to corretly forecast, being also the minority target variable. The model does a little better on precision than the previous one. However, it does worse on recall. Overall, the previous model is better, being also lighter."
      ]
    },
    {
      "cell_type": "code",
      "metadata": {
        "colab": {
          "base_uri": "https://localhost:8080/",
          "height": 325
        },
        "id": "lwgdam9av8aH",
        "outputId": "05a206fe-f9c1-4011-c338-8c594e0e3bed"
      },
      "source": [
        "coefs = LogisticRegression(C=0.01).fit(X_train,y_train).coef_\n",
        "feature_names = vect.get_feature_names()\n",
        "\n",
        "\n",
        "visualize_coefficients(coefs, feature_names, n_top_features=25)"
      ],
      "execution_count": 175,
      "outputs": [
        {
          "output_type": "display_data",
          "data": {
            "image/png": "[encoded data removed]",
            "text/plain": [
              "<Figure size 1080x360 with 1 Axes>"
            ]
          },
          "metadata": {
            "tags": [],
            "needs_background": "light"
          }
        }
      ]
    },
    {
      "cell_type": "markdown",
      "metadata": {
        "id": "7zvxXckfw73I"
      },
      "source": [
        "___\n",
        "\n",
        "## Third Model (s)\n",
        "\n",
        "Here I want to use stemming and lemmatization. Moreover, I tried Random Forest and KNN besides the usual logistic regression. Also, I increased the cross validation to 10 (stratified k-fold, default for binary and multiclass)."
      ]
    },
    {
      "cell_type": "code",
      "metadata": {
        "colab": {
          "base_uri": "https://localhost:8080/"
        },
        "id": "v7QYD9abHMGa",
        "outputId": "349c2b57-37ab-4560-d4ef-254fd8041449"
      },
      "source": [
        "nltk.download('punkt')\n",
        "nltk.download('wordnet')"
      ],
      "execution_count": 176,
      "outputs": [
        {
          "output_type": "stream",
          "text": [
            "[nltk_data] Downloading package punkt to /root/nltk_data...\n",
            "[nltk_data]   Package punkt is already up-to-date!\n",
            "[nltk_data] Downloading package wordnet to /root/nltk_data...\n",
            "[nltk_data]   Package wordnet is already up-to-date!\n"
          ],
          "name": "stdout"
        },
        {
          "output_type": "execute_result",
          "data": {
            "text/plain": [
              "True"
            ]
          },
          "metadata": {
            "tags": []
          },
          "execution_count": 176
        }
      ]
    },
    {
      "cell_type": "code",
      "metadata": {
        "colab": {
          "base_uri": "https://localhost:8080/"
        },
        "id": "pROP3ysIzBoW",
        "outputId": "0a106639-4d11-4ccd-d2d5-1611359ee7da"
      },
      "source": [
        "import nltk\n",
        "\n",
        "# instantiate nltk's Porter stemmer\n",
        "stemmer = nltk.stem.PorterStemmer()\n",
        "\n",
        "from nltk import word_tokenize          \n",
        "from nltk.stem import WordNetLemmatizer \n",
        "\n",
        "\n",
        "class LemmaTokenizer(object):\n",
        "    def __init__(self):\n",
        "        self.wnl = WordNetLemmatizer()\n",
        "    def __call__(self, doc):\n",
        "        return [self.wnl.lemmatize(t) for t in word_tokenize(doc)]\n",
        "    \n",
        "# define a count vectorizer with the custom tokenizer\n",
        "\n",
        "lemma_vect = TfidfVectorizer(tokenizer=LemmaTokenizer(), ngram_range=(1, 1), stop_words=\"english\", min_df=3).fit(text_train.Review)\n",
        "\n",
        "X_train = lemma_vect.transform(text_train.Review)\n",
        "print(\"X_train:\\n{}\".format(repr(X_train)))"
      ],
      "execution_count": 177,
      "outputs": [
        {
          "output_type": "stream",
          "text": [
            "/usr/local/lib/python3.6/dist-packages/sklearn/feature_extraction/text.py:507: UserWarning: The parameter 'token_pattern' will not be used since 'tokenizer' is not None'\n",
            "  warnings.warn(\"The parameter 'token_pattern' will not be used\"\n",
            "/usr/local/lib/python3.6/dist-packages/sklearn/feature_extraction/text.py:385: UserWarning: Your stop_words may be inconsistent with your preprocessing. Tokenizing the stop words generated tokens ['ha', 'le', 'u', 'wa'] not in stop_words.\n",
            "  'stop_words.' % sorted(inconsistent))\n"
          ],
          "name": "stderr"
        },
        {
          "output_type": "stream",
          "text": [
            "X_train:\n",
            "<16985x6147 sparse matrix of type '<class 'numpy.float64'>'\n",
            "\twith 486951 stored elements in Compressed Sparse Row format>\n"
          ],
          "name": "stdout"
        }
      ]
    },
    {
      "cell_type": "code",
      "metadata": {
        "colab": {
          "base_uri": "https://localhost:8080/"
        },
        "id": "9-rYhfAQxLiO",
        "outputId": "52b60015-dd41-4d19-824b-919653f214e7"
      },
      "source": [
        "X_test = lemma_vect.transform(text_test.Review)\n",
        "print(\"X_test:\\n{}\".format(repr(X_test)))"
      ],
      "execution_count": 178,
      "outputs": [
        {
          "output_type": "stream",
          "text": [
            "X_test:\n",
            "<5657x6147 sparse matrix of type '<class 'numpy.float64'>'\n",
            "\twith 161593 stored elements in Compressed Sparse Row format>\n"
          ],
          "name": "stdout"
        }
      ]
    },
    {
      "cell_type": "code",
      "metadata": {
        "colab": {
          "base_uri": "https://localhost:8080/"
        },
        "id": "nR8vNeU4B5Yz",
        "outputId": "fb480605-b1cf-4afd-af85-f496f1b68262"
      },
      "source": [
        "feature_names = lemma_vect.get_feature_names()\n",
        "print(\"Number of features: {}\".format(len(feature_names)))\n",
        "print(\"First 20 features:\\n{}\".format(feature_names[:20]))\n",
        "print(\"Features 210 to 230:\\n{}\".format(feature_names[2100:2130]))\n",
        "print(\"Every 200th feature:\\n{}\".format(feature_names[::200]))"
      ],
      "execution_count": 179,
      "outputs": [
        {
          "output_type": "stream",
          "text": [
            "Number of features: 6147\n",
            "First 20 features:\n",
            "['!', '#', '$', '%', '&', \"'\", \"''\", \"'d\", \"'em\", \"'ll\", \"'m\", \"'re\", \"'red\", \"'s\", \"'t\", \"'ve\", '(', ')', '+', ',']\n",
            "Features 210 to 230:\n",
            "['environment', 'envision', 'envisioned', 'epaulet', 'epitome', 'eptite', 'equal', 'equally', 'equivalent', 'er', 'errand', 'error', 'esp', 'espadrille', 'especially', 'essential', 'essentially', 'etc.', 'ethereal', 'europe', 'european', 'eva', 'eve', 'evening', 'evenly', 'event', 'eventually', 'ever.i', 'ever.these', 'ever.this']\n",
            "Every 200th feature:\n",
            "['!', '11', '38c', 'agreed', 'backorder', 'book', 'careful', 'color.love', 'creates', 'detailed', 'durability', 'f', 'flow-y', 'gorgeous', 'hoodie', 'italy', 'let', 'marled', 'na', 'overlooked', 'pinning', 'provide', 'renaissance', 'saw', 'significantly', 'sparkly', 'stylist', 'tee.very', 'transitioning', 'user', 'wi']\n"
          ],
          "name": "stdout"
        }
      ]
    },
    {
      "cell_type": "code",
      "metadata": {
        "id": "3jYB1LDQGWZX"
      },
      "source": [
        "from sklearn.ensemble import RandomForestClassifier\n",
        "\n",
        "rf_param_grid = {'n_estimators': np.arange(2, 20, 2)}\n",
        "rf_grid = GridSearchCV(RandomForestClassifier(), rf_param_grid, cv=10).fit(X_train, y_train)\n",
        "\n",
        "y_pred = rf_grid.predict(X_test)"
      ],
      "execution_count": 180,
      "outputs": []
    },
    {
      "cell_type": "code",
      "metadata": {
        "colab": {
          "base_uri": "https://localhost:8080/"
        },
        "id": "rIkrLBw-xS6M",
        "outputId": "9ddc0ac4-c94c-4092-8937-3fe9f93d1875"
      },
      "source": [
        "print(\"Best cross-validation score: {:.2f}\".format(rf_grid.best_score_))\n",
        "print(\"Test score: {:.2f}\".format(rf_grid.score(X_test, y_test)))\n",
        "print(\"Best parameters: \", rf_grid.best_params_)\n",
        "\n",
        "print(\"Classification Report:\")\n",
        "print(classification_report(y_test, y_pred))"
      ],
      "execution_count": 181,
      "outputs": [
        {
          "output_type": "stream",
          "text": [
            "Best cross-validation score: 0.86\n",
            "Test score: 0.86\n",
            "Best parameters:  {'n_estimators': 16}\n",
            "Classification Report:\n",
            "              precision    recall  f1-score   support\n",
            "\n",
            "           0       0.73      0.38      0.50      1026\n",
            "           1       0.88      0.97      0.92      4631\n",
            "\n",
            "    accuracy                           0.86      5657\n",
            "   macro avg       0.80      0.67      0.71      5657\n",
            "weighted avg       0.85      0.86      0.84      5657\n",
            "\n"
          ],
          "name": "stdout"
        }
      ]
    },
    {
      "cell_type": "code",
      "metadata": {
        "id": "Ciq77hddxPM7"
      },
      "source": [
        "param_grid = {'C': [0.001, 0.01, 0.1, 1, 10]}\n",
        "grid = GridSearchCV(LogisticRegression(max_iter=10000), param_grid, cv=10)\n",
        "model = grid.fit(X_train, y_train)\n",
        "\n",
        "y_pred = model.predict(X_test)"
      ],
      "execution_count": 182,
      "outputs": []
    },
    {
      "cell_type": "code",
      "metadata": {
        "colab": {
          "base_uri": "https://localhost:8080/"
        },
        "id": "Nn_qaI8mORcS",
        "outputId": "c4bbe947-6ca1-433d-acc1-2e666cfdbcca"
      },
      "source": [
        "print(\"Best cross-validation score: {:.2f}\".format(grid.best_score_))\n",
        "print(\"Test score: {:.2f}\".format(grid.score(X_test, y_test)))\n",
        "print(\"Best parameters: \", grid.best_params_)\n",
        "\n",
        "print(\"Classification Report:\")\n",
        "print(classification_report(y_test, y_pred))"
      ],
      "execution_count": 183,
      "outputs": [
        {
          "output_type": "stream",
          "text": [
            "Best cross-validation score: 0.89\n",
            "Test score: 0.89\n",
            "Best parameters:  {'C': 10}\n",
            "Classification Report:\n",
            "              precision    recall  f1-score   support\n",
            "\n",
            "           0       0.73      0.62      0.67      1026\n",
            "           1       0.92      0.95      0.93      4631\n",
            "\n",
            "    accuracy                           0.89      5657\n",
            "   macro avg       0.82      0.78      0.80      5657\n",
            "weighted avg       0.88      0.89      0.89      5657\n",
            "\n"
          ],
          "name": "stdout"
        }
      ]
    },
    {
      "cell_type": "code",
      "metadata": {
        "colab": {
          "base_uri": "https://localhost:8080/",
          "height": 278
        },
        "id": "Pvm-ozLZxVFu",
        "outputId": "ff82f672-1677-448e-c09f-9489a79fea5d"
      },
      "source": [
        "mat = confusion_matrix(y_test, y_pred)\n",
        "sns.heatmap(mat.T, square=True, annot=True, fmt='d', cbar=False, cmap=\"Blues\")\n",
        "plt.xlabel('true label')\n",
        "plt.ylabel('predicted label');"
      ],
      "execution_count": 184,
      "outputs": [
        {
          "output_type": "display_data",
          "data": {
            "image/png": "[encoded data removed]",
            "text/plain": [
              "<Figure size 432x288 with 1 Axes>"
            ]
          },
          "metadata": {
            "tags": [],
            "needs_background": "light"
          }
        }
      ]
    },
    {
      "cell_type": "code",
      "metadata": {
        "colab": {
          "base_uri": "https://localhost:8080/",
          "height": 325
        },
        "id": "6myglQpTxXHf",
        "outputId": "630978b3-de14-401e-8c65-03093d69a5e6"
      },
      "source": [
        "coefs = LogisticRegression(C=0.01).fit(X_train,y_train).coef_\n",
        "feature_names = lemma_vect.get_feature_names()\n",
        "\n",
        "\n",
        "visualize_coefficients(coefs, feature_names, n_top_features=25)"
      ],
      "execution_count": 185,
      "outputs": [
        {
          "output_type": "display_data",
          "data": {
            "image/png": "[encoded data removed]",
            "text/plain": [
              "<Figure size 1080x360 with 1 Axes>"
            ]
          },
          "metadata": {
            "tags": [],
            "needs_background": "light"
          }
        }
      ]
    },
    {
      "cell_type": "code",
      "metadata": {
        "id": "b6xOB1JWNNUW"
      },
      "source": [
        "from sklearn.neighbors import KNeighborsClassifier\n",
        "\n",
        "knn_param_grid = {'n_neighbors': range(1, 9, 2)}\n",
        "knn_grid = GridSearchCV(KNeighborsClassifier(), knn_param_grid, cv=10).fit(X_train, y_train)\n",
        "\n",
        "y_pred = knn_grid.predict(X_test)"
      ],
      "execution_count": 186,
      "outputs": []
    },
    {
      "cell_type": "code",
      "metadata": {
        "colab": {
          "base_uri": "https://localhost:8080/"
        },
        "id": "_7m5OpfWNi0I",
        "outputId": "9c4bf0c7-b260-461f-e857-9f813703a6a8"
      },
      "source": [
        "print(\"Best cross-validation score: {:.2f}\".format(knn_grid.best_score_))\n",
        "print(\"Test score: {:.2f}\".format(knn_grid.score(X_test, y_test)))\n",
        "print(\"Best parameters: \", knn_grid.best_params_)\n",
        "\n",
        "print(\"Classification Report:\")\n",
        "print(classification_report(y_test, y_pred))"
      ],
      "execution_count": 187,
      "outputs": [
        {
          "output_type": "stream",
          "text": [
            "Best cross-validation score: 0.86\n",
            "Test score: 0.85\n",
            "Best parameters:  {'n_neighbors': 7}\n",
            "Classification Report:\n",
            "              precision    recall  f1-score   support\n",
            "\n",
            "           0       0.70      0.34      0.46      1026\n",
            "           1       0.87      0.97      0.92      4631\n",
            "\n",
            "    accuracy                           0.85      5657\n",
            "   macro avg       0.79      0.65      0.69      5657\n",
            "weighted avg       0.84      0.85      0.83      5657\n",
            "\n"
          ],
          "name": "stdout"
        }
      ]
    },
    {
      "cell_type": "markdown",
      "metadata": {
        "id": "4bOktRcGPLnn"
      },
      "source": [
        "**Notes**: RF and KNN do terrible for recall, getting the right prediction for the 0 label just ≈ 1/3 of the time. Logistic regression does better than the other two, however is still worse than the first model."
      ]
    },
    {
      "cell_type": "markdown",
      "metadata": {
        "id": "smMz1RqgQV6v"
      },
      "source": [
        "## Final answer for the first part\n",
        "\n",
        "The best model, of those I ran, is the first one. It is also the simplest one. Nonetheless, the recall is bad and is not a great model. Below there are its metrics."
      ]
    },
    {
      "cell_type": "code",
      "metadata": {
        "colab": {
          "base_uri": "https://localhost:8080/"
        },
        "id": "P4WHShhhRArx",
        "outputId": "a842ed9c-3660-4959-dde7-adb9a0262d3e"
      },
      "source": [
        "print(\"Classification Report:\")\n",
        "print(classification_report(y_test, y_pred1))"
      ],
      "execution_count": 188,
      "outputs": [
        {
          "output_type": "stream",
          "text": [
            "Classification Report:\n",
            "              precision    recall  f1-score   support\n",
            "\n",
            "           0       0.75      0.66      0.70      1026\n",
            "           1       0.93      0.95      0.94      4631\n",
            "\n",
            "    accuracy                           0.90      5657\n",
            "   macro avg       0.84      0.80      0.82      5657\n",
            "weighted avg       0.90      0.90      0.90      5657\n",
            "\n"
          ],
          "name": "stdout"
        }
      ]
    }
  ]
}